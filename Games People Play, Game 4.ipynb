{
 "cells": [
  {
   "cell_type": "markdown",
   "metadata": {},
   "source": [
    "# Games People Play\n",
    "\n",
    "\n",
    "## Game 4\n",
    "\n",
    "\n",
    "**Rules**. This game is playes just like Game 2, the only difference being the amounts bet. If $P_1$ elects to raise, he must add $2b$ to the pot, and if $P_2$ elects to call, he must add only $b$ to the pot. Similarly, if $P_1$ elects to pass and $P_2$ elects to raise, $P_2$ adds $2b$ ato the pot and $P_1$ only $b$.\n",
    "\n",
    "Thus for this game, the player who whishes to increase the stakes must risk $2b$ and his or her opponent only $b$. Otherwise, Game 4 is identical to Game 2, with $P_2$ having the option of folding if $P_1$ raises; but if $P_1$ passes, and $P_2$ raises, $P_1$ cannot withdraw (but only adds $b$ to the pot, whereas $P_2$ adds $2b$)\n",
    "\n",
    "The strategy sets for the two players are the same as in Game 2 and 3, the payoff matrix is:\n",
    "\n",
    "$$A=\\begin{bmatrix} -\\frac{b}{2} & -\\frac{b}{2} & a & a \\\\ 0 & \\frac{b}{2} & -\\frac{b}{2} & 0 \\\\ 0 & -b & a+b & a \\\\ \\frac{b}{2} & 0 & \\frac{b}{2} & 0  \\end{bmatrix}$$"
   ]
  },
  {
   "cell_type": "code",
   "execution_count": null,
   "metadata": {},
   "outputs": [],
   "source": [
    "import numpy as np\n",
    "from pulp import *\n",
    "\n",
    "#Game 3\n",
    "\n",
    "def valor_a_b(a,b):\n",
    "    x=abs(a)\n",
    "    y=abs(b)\n",
    "    l=np.array([x,y])\n",
    "    return l\n",
    "\n",
    "va=input(\"Introduce el valor de a: \")\n",
    "vb=input(\"Introduce el valor de b: \")\n",
    "va=int(va)\n",
    "vb=int(vb)\n",
    "\n",
    "values=valor_a_b(va,vb)\n",
    "\n",
    "A=values[0]\n",
    "B=values[1]\n",
    "\n",
    "pm=np.array([[-B/2, -B/2,    A,   A],\n",
    "             [   0,  B/2, -B/2,   0],\n",
    "             [   0,   -B,  A+B,   A],\n",
    "             [ B/2,    0,  B/2,   0]])\n",
    "\n",
    "minim_row=np.array([0.,0.,0.,0.])\n",
    "\n",
    "for i in range(0,len(pm)):\n",
    "    minim_row[i]=min(pm[i])\n",
    "    \n",
    "min_tot=min(minim_row)\n",
    "\n",
    "pm1=pm+abs(min_tot)\n",
    "\n",
    "print(\"Game Matrix:\")\n",
    "print(\"\")\n",
    "print(pm)\n",
    "print(\"\")\n",
    "print(\"-----------------------------------------------------------------\")\n",
    "print(\"Equivalent Game Matrix:\")\n",
    "print(\"\")\n",
    "print(pm1)"
   ]
  },
  {
   "cell_type": "markdown",
   "metadata": {},
   "source": [
    "# Strategy for player 1"
   ]
  },
  {
   "cell_type": "code",
   "execution_count": null,
   "metadata": {},
   "outputs": [],
   "source": [
    "probx=LpProblem(\"Game X\", LpMinimize)\n",
    "#The variables are created:\n",
    "x_1=LpVariable(\"X_1\",0,None)\n",
    "x_2=LpVariable(\"X_2\",0,None)\n",
    "x_3=LpVariable(\"X_3\",0,None)\n",
    "x_4=LpVariable(\"X_4\",0,None)\n",
    " \n",
    "#The objective function is added\n",
    "probx += x_1+x_2+x_3+x_4\n",
    "\n",
    "#Subject to restrictions:\n",
    "probx += pm1[0][0]*x_1+pm1[1][0]*x_2+ pm1[2][0]*x_3 + pm1[3][0]*x_4 >= 1\n",
    "probx += pm1[0][1]*x_1+pm1[1][1]*x_2+ pm1[2][1]*x_3 + pm1[3][1]*x_4 >= 1\n",
    "probx += pm1[0][2]*x_1+pm1[1][2]*x_2+ pm1[2][2]*x_3 + pm1[3][2]*x_4 >= 1\n",
    "probx += pm1[0][3]*x_1+pm1[1][3]*x_2+ pm1[2][3]*x_3 + pm1[3][3]*x_4 >= 1\n",
    "\n",
    "#Solution:\n",
    "probx.solve()\n",
    "\n",
    "vx=1/value(probx.objective)\n",
    "print(\"Game for Player 1\")\n",
    "print (\"\")\n",
    "print (\"Game value of Equivalent Game Matrix'v'=\", vx)\n",
    "print (\"\")\n",
    "print (\"Game value Game Matrix 'w'=\", vx-abs(min_tot))\n",
    "print (\"\")\n",
    "\n",
    "x=probx.variables()\n",
    "\n",
    "X1=vx*(x[0].varValue)\n",
    "X2=vx*(x[1].varValue)\n",
    "X3=vx*(x[2].varValue)\n",
    "X4=vx*(x[3].varValue)\n",
    "\n",
    "\n",
    "print (\"P1 Strategy:\")\n",
    "print(\"\")\n",
    "print (\"X1=\", X1)\n",
    "print (\"X2=\", X2)\n",
    "print (\"X3=\", X3)\n",
    "print (\"X4=\", X4)\n",
    "\n"
   ]
  },
  {
   "cell_type": "markdown",
   "metadata": {},
   "source": [
    "# Strategy for player 2"
   ]
  },
  {
   "cell_type": "code",
   "execution_count": 8,
   "metadata": {},
   "outputs": [
    {
     "name": "stdout",
     "output_type": "stream",
     "text": [
      "Game for Player 2\n",
      "\n",
      "Game value of Equivalent Game Matrix'v'= 2.333333325550111\n",
      "\n",
      "Game value Game Matrix 'w'= 0.33333332555\n",
      "\n",
      "P2 Strategy:\n",
      "\n",
      "Y1= 2.333391892216582e-12\n",
      "Y2= 0.6666666744428887\n",
      "Y3= 0.33333332555477774\n",
      "Y4= 0.0\n"
     ]
    }
   ],
   "source": [
    "proby=LpProblem(\"Game Y\", LpMaximize)\n",
    "#The variables are created:\n",
    "y_1=LpVariable(\"Y_1\",0,None)\n",
    "y_2=LpVariable(\"Y_2\",0,None)\n",
    "y_3=LpVariable(\"Y_3\",0,None)\n",
    "y_4=LpVariable(\"Y_4\",0,None)\n",
    "\n",
    " \n",
    "#The objective function is added\n",
    "proby += y_1+y_2+y_3+y_4\n",
    "\n",
    "#Subject to restrictions:\n",
    "proby +=pm1[0][0]*y_1+pm1[0][1]*y_2+ pm1[0][2]*y_3 + pm1[0][3]*y_4 <=1\n",
    "proby +=pm1[1][0]*y_1+pm1[1][1]*y_2+ pm1[1][2]*y_3 + pm1[1][3]*y_4 <=1\n",
    "proby +=pm1[2][0]*y_1+pm1[2][1]*y_2+ pm1[2][2]*y_3 + pm1[2][3]*y_4 <=1\n",
    "proby +=pm1[3][0]*y_1+pm1[3][1]*y_2+ pm1[3][2]*y_3 + pm1[3][3]*y_4 <=1\n",
    "\n",
    "\n",
    "#Solution:\n",
    "proby.solve()\n",
    "\n",
    "vy=1/value(proby.objective)\n",
    "print(\"Game for Player 2\")\n",
    "print (\"\")\n",
    "print (\"Game value of Equivalent Game Matrix'v'=\", vy)\n",
    "print (\"\")\n",
    "print (\"Game value Game Matrix 'w'=\", vy-abs(min_tot))\n",
    "print (\"\")\n",
    "\n",
    "y=proby.variables()\n",
    "Y1=vy*(y[0].varValue)\n",
    "Y2=vy*(y[1].varValue)\n",
    "Y3=vy*(y[2].varValue)\n",
    "Y4=vy*(y[3].varValue)\n",
    "\n",
    "\n",
    "print (\"P2 Strategy:\")\n",
    "print(\"\")\n",
    "\n",
    "print (\"Y1=\",Y1)\n",
    "print (\"Y2=\",Y2)\n",
    "print (\"Y3=\",Y3)\n",
    "print (\"Y4=\",Y4)"
   ]
  },
  {
   "cell_type": "markdown",
   "metadata": {},
   "source": [
    "**Reference:**  \n",
    "Thie, P., Keough, G. (2008) *An introduction to Linear Programming and Game Theory* John Wiley & Sons, Inc., : United States. Pg, 386 and 387."
   ]
  }
 ],
 "metadata": {
  "kernelspec": {
   "display_name": "Python 3",
   "language": "python",
   "name": "python3"
  },
  "language_info": {
   "codemirror_mode": {
    "name": "ipython",
    "version": 3
   },
   "file_extension": ".py",
   "mimetype": "text/x-python",
   "name": "python",
   "nbconvert_exporter": "python",
   "pygments_lexer": "ipython3",
   "version": "3.6.1"
  }
 },
 "nbformat": 4,
 "nbformat_minor": 2
}
