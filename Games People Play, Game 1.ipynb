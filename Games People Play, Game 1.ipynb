{
 "cells": [
  {
   "cell_type": "markdown",
   "metadata": {},
   "source": [
    "# Games People Play\n",
    "\n",
    "\n",
    "## Game 1\n",
    "\n",
    "\n",
    "**Rules**. *Players 1 and 2 ante an amount $a > 0$ into the pot. One card is dealt to $P_1$ from a deck containing an equal number of high and low cards. After looking at his card, $P_1$ can either \"pass\" or \"raise.\" If $P_1$ passes, $P_1$ wins the pot if he had been dealt a high card and loses the pot if he had been dealt a low card. If $P_1$ raises, he adds an\n",
    "amount $b > 0$ to the pot, and then $P_2$ has two options. $P_2$ can either \"fold\" or \"call.\" If $P_2$ folds, $P_1$ wins the pot (without revealing his hand). If $P_2$ calls, he also adds the amount $b$ to the pot, and then $P_1$ wins or loses the pot if he has been dealt a high or low card, respectively.*   \n",
    "\n",
    "\n",
    "Thus, if $P_1$ is dealt a high card, he is guaranteed to win at least the amount $a$ from $P_2$, and he can win $a + b$ if he raises and $P_1$ elects to call. On the other hand, if $P_1$ is dealt a low card, he can pass and lose the amount $a$ or he can raise (i.e., bluff), with the hope that $P_2$ will assume that $P_1$ has a high card and elect to fold. If $P_2$ folds, $P_1$ wins a even though he has a low card. However, if $P_2$ suspects that $P_1$ does not have a high card but is bluffing, $P_2$ can call, and now $P_1$ loses not $a$ but $a + b$.   \n",
    "\n",
    "To apply our theory to this game, we must first list all the possible strategies for the two players. Recall that a strategy is a rule that tells a player what to do in any possible situation the player may encounter during the game. Consider $P_1$'s situation. He is dealt either a high or low card, and so a strategy for him must tell him what to do in either case. Thus a possible strategy for $P_1$ would be to raise if he has a high card and pass if he has a low card. We will denote this strategy by $(R,P)$, where the first component of the ordered pair directs $P_1$ if he has a high card and the second component if he has a low card, with $R$ corresponding to *raising* and $P$ to *passing*. It can be seen that $P_1$ has four possible strategies, denoted by $(R,R)$, $(R,P)$, $(P,R)$, and $(P,P)$. Thus $(P,P)$ directs $P_1$ to pass no matter what he has been dealt, and $(P,R)$ directs him to pass on a high card and raise on a low card. The strategy set for $P_2$ is simpler because she is unaware of the card dealt $P_1$. If $P_1$ elects to pass, $P_2$ has no options and the game is terminated. If $P_1$ elects to raise, $P_2$ can either call or fold, and so a strategy for $P_2$ is a rule that directs $P_2$'s response to a raise by $P_1$. Denote these two possible strategies by *call* and *fold*.\n",
    "\n",
    "Thus the payoff matrix associated with this game is 4 x 2. Since the outcome of the game is contingent not only on the strategies employed by the players but also on the card dealt $P_1$, the entries of the matrix are found by computing the expected value of the outcome to $P_1$ for the eight possible strategy pairs. For example, suppose $P_1$ uses strategy $(P,R)$ and $P_2$ uses strategy call. Then if $P_1$ is dealt a high card, he passes and wins a, and if he is dealt a low card, he raises and $P_2$ calls, and so $P_1$ loses $a + b$. Since we are assuming that the deck contains an equal number of high and low cards and that the card dealt $P_1$ is randomly chosen, the probabilities of both a high-card hand and a low-card hand are \\. Thus the expected value of the outcome corresponding to this strategy pair is $\\frac{a}{2} + \\frac{(-a - b)}{2} = -\\frac{b}{2}$. Similarly, if $P_1$ uses strategy $(R, P)$ and $P_2$ uses strategy fold, on a high-card deal, $P_1$ raises, $P_2$ folds, and $P_1$ wins $a$, and on a low-card deal, $P_1$ passes and loses $a$. The expected outcome is therefore $\\frac{a}{2} + \\frac{-a}{2} = 0$.\n",
    "\n",
    "\n",
    " \n",
    "\n",
    "|Call|Fold\n",
    "---|---\n",
    "**(R,R)**|$0$|$a$\n",
    "**(R,P)**|$\\frac{b}{2}$|$0$\n",
    "**(P,R)**|-$\\frac{b}{2}$|$a$\n",
    "**(P,P)**|$0$|$0$"
   ]
  },
  {
   "cell_type": "code",
   "execution_count": 1,
   "metadata": {},
   "outputs": [
    {
     "name": "stdout",
     "output_type": "stream",
     "text": [
      "Introduce el valor de a: 4\n",
      "Introduce el valor de b: 3\n",
      "\n",
      "Game Matrix:\n",
      "[[ 0.   4. ]\n",
      " [ 1.5  0. ]]\n",
      "\n"
     ]
    }
   ],
   "source": [
    "import numpy as np\n",
    "from pulp import *\n",
    "\n",
    "#Game 1\n",
    "\n",
    "def valor_a_b(a,b):\n",
    "    x=abs(a)\n",
    "    y=abs(b)\n",
    "    l=np.array([x,y])\n",
    "    return l\n",
    "\n",
    "va=input(\"Introduce el valor de a: \")\n",
    "vb=input(\"Introduce el valor de b: \")\n",
    "va=int(va)\n",
    "vb=int(vb)\n",
    "\n",
    "values=valor_a_b(va,vb)\n",
    "\n",
    "A=values[0]\n",
    "B=values[1]\n",
    "\n",
    "#Payoff Matrix:\n",
    "#After Dominace\n",
    "\n",
    "pm=np.array([[0,A],[B/2,0]])\n",
    "print (\"\")\n",
    "\n",
    "print(\"Game Matrix:\")\n",
    "print(pm)\n",
    "print(\"\")"
   ]
  },
  {
   "cell_type": "markdown",
   "metadata": {},
   "source": [
    "# Strategy for player 1"
   ]
  },
  {
   "cell_type": "code",
   "execution_count": 7,
   "metadata": {},
   "outputs": [
    {
     "name": "stdout",
     "output_type": "stream",
     "text": [
      "\n",
      "Game value Game Matrix 1.0909090869421487\n",
      "\n",
      "Player 1 Strategy:\n",
      "\n",
      "X1= 0.2727272717355372\n",
      "X2= 0.7272727282644628\n",
      "\n"
     ]
    }
   ],
   "source": [
    "#Game for Player 1\n",
    "probx=LpProblem(\"Game1x\", LpMinimize)\n",
    "#The variables are created:\n",
    "x_1=LpVariable(\"X_1\",0,None)\n",
    "x_2=LpVariable(\"X_2\",0,None)\n",
    " \n",
    "#The objective function is added\n",
    "probx += x_1+x_2\n",
    "\n",
    "#Subject to restrictions:\n",
    "probx +=pm[0][0]*x_1+pm[1][0]*x_2>=1\n",
    "probx +=pm[0][1]*x_1+pm[1][1]*x_2>=1\n",
    "\n",
    "#Solution:\n",
    "probx.solve()\n",
    "print (\"\")\n",
    "\n",
    "vx=1/value(probx.objective)\n",
    "print (\"Game value Game Matrix\", vx)\n",
    "print (\"\")\n",
    "\n",
    "x=probx.variables()\n",
    "X1=vx*(x[0].varValue)\n",
    "X2=vx*(x[1].varValue)\n",
    "\n",
    "print (\"Player 1 Strategy:\")\n",
    "print (\"\")\n",
    "\n",
    "print (\"X1=\",X1)\n",
    "print (\"X2=\",X2)\n",
    "print (\"\")"
   ]
  },
  {
   "cell_type": "markdown",
   "metadata": {},
   "source": [
    "# Strategy for player 2"
   ]
  },
  {
   "cell_type": "code",
   "execution_count": 6,
   "metadata": {},
   "outputs": [
    {
     "name": "stdout",
     "output_type": "stream",
     "text": [
      "Game value Game Matrix= 1.0909090869421487\n",
      "\n",
      "Player 2 Strategy:\n",
      "\n",
      "y1= 0.7272727282644628\n",
      "y2= 0.2727272717355372\n"
     ]
    }
   ],
   "source": [
    "#Problem\n",
    "proby=LpProblem(\"Game1y\", LpMaximize)\n",
    "#The variables are created:\n",
    "y_1=LpVariable(\"Y_1\",0,None)\n",
    "y_2=LpVariable(\"Y_2\",0,None)\n",
    " \n",
    "#The objective function is added\n",
    "proby += y_1+y_2\n",
    "\n",
    "#Subject to restrictions:\n",
    "proby+=pm[0][0]*y_1+pm[0][1]*y_2 <= 1\n",
    "proby+=pm[1][0]*y_1+pm[1][1]*y_2 <= 1\n",
    "\n",
    "#Solution:\n",
    "proby.solve()\n",
    "\n",
    "\n",
    "\n",
    "vy=1/value(proby.objective)\n",
    "\n",
    "print (\"Game value Game Matrix=\", vy)\n",
    "print (\"\")\n",
    "\n",
    "y=proby.variables()\n",
    "y1=vy*(y[0].varValue)\n",
    "y2=vy*(y[1].varValue)\n",
    "\n",
    "print (\"Player 2 Strategy:\")\n",
    "print (\"\")\n",
    "\n",
    "print (\"y1=\",y1)\n",
    "print (\"y2=\",y2)\n"
   ]
  },
  {
   "cell_type": "markdown",
   "metadata": {},
   "source": [
    "**Reference:**  \n",
    "Thie, P., Keough, G. (2008) *An introduction to Linear Programming and Game Theory* John Wiley & Sons, Inc., : United States. Pg. 382, 383 and 384. \n",
    "\n"
   ]
  },
  {
   "cell_type": "code",
   "execution_count": null,
   "metadata": {
    "collapsed": true
   },
   "outputs": [],
   "source": []
  }
 ],
 "metadata": {
  "kernelspec": {
   "display_name": "Python 3",
   "language": "python",
   "name": "python3"
  },
  "language_info": {
   "codemirror_mode": {
    "name": "ipython",
    "version": 3
   },
   "file_extension": ".py",
   "mimetype": "text/x-python",
   "name": "python",
   "nbconvert_exporter": "python",
   "pygments_lexer": "ipython3",
   "version": "3.6.1"
  }
 },
 "nbformat": 4,
 "nbformat_minor": 2
}
