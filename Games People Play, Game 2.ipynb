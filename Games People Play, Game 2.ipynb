{
 "cells": [
  {
   "cell_type": "markdown",
   "metadata": {},
   "source": [
    "# Games People Play\n",
    "\n",
    "\n",
    "## Game 2\n",
    "\n",
    "\n",
    "**Rules**. The ante, the deal, and the options for $P_1$ are just as in Game 1, and if $P_1$ elects to raise, $P_2$'s options are also as in Game 1. However, if $P_1$ elects to pass, the play is not terminated, but $P_2$ can either pass or raise. If $P_2$ elects to pass, play is terminated and the pot distributed as before. If $P_2$ elects to raise, both he and $P_1$ add an amount $b$ to the pot, and men the pot is distributed as before.\n",
    "\n",
    "Thus the only difference betwen this game and Game 1 is that if $P_1$ chooses to pass, $P_2$ now has the oportunity to increase the pot to $a+b$, and $P_1$ cannot withdraw if $P_2$ wishes to increase the pot. $P_1$'s strategy set remains the same, but now a strategy for $P_2$ must direct her response to both possible plays of $P_1$. Thus a possible strategy for $P_2$ would be to fold if $P_1$ raises and raise if $P_1$ passes. This strategy is denoted by $(F,R)$, where the first component of the ordered pair is $P_2$'s response to a raise by $P_1$ and the second component is her response to pass, with the obvious abbreviations for fold, call, pass, raise. $P_2$ has four pure strategies, denoted by: $(C,R)$,$(C,P)$,$(F,R)$ and $(F,P)$.\n",
    "\n",
    "The payoff matrix is 4x4, the eintries again are expected values and are computed just as before. The following matrix results:\n",
    "\n",
    "$$A=\\begin{bmatrix} 0 & 0 & a & a \\\\ 0 & \\frac{b}{2} & -\\frac{b}{2} & 0 \\\\ 0 & -\\frac{b}{2} & \\frac{2a+b}{2} & a \\\\ 0 & 0 & 0 & 0  \\end{bmatrix}$$\n"
   ]
  },
  {
   "cell_type": "code",
   "execution_count": 1,
   "metadata": {},
   "outputs": [
    {
     "name": "stdout",
     "output_type": "stream",
     "text": [
      "Introduce el valor de a: 2\n",
      "Introduce el valor de b: 3\n",
      "Game Matrix:\n",
      "\n",
      "[[ 0.   0.   2.   2. ]\n",
      " [ 0.   1.5 -1.5  0. ]\n",
      " [ 0.  -1.5  3.5  2. ]\n",
      " [ 0.   0.   0.   0. ]]\n",
      "\n",
      "-----------------------------------------------------------------\n",
      "Equivalent Game Matrix:\n",
      "\n",
      "[[ 1.5  1.5  3.5  3.5]\n",
      " [ 1.5  3.   0.   1.5]\n",
      " [ 1.5  0.   5.   3.5]\n",
      " [ 1.5  1.5  1.5  1.5]]\n",
      "\n"
     ]
    }
   ],
   "source": [
    "import numpy as np\n",
    "from pulp import *\n",
    "\n",
    "#Game 2\n",
    "\n",
    "def valor_a_b(a,b):\n",
    "    x=abs(a)\n",
    "    y=abs(b)\n",
    "    l=np.array([x,y])\n",
    "    return l\n",
    "\n",
    "va=input(\"Introduce el valor de a: \")\n",
    "vb=input(\"Introduce el valor de b: \")\n",
    "va=int(va)\n",
    "vb=int(vb)\n",
    "\n",
    "values=valor_a_b(va,vb)\n",
    "\n",
    "A=values[0]\n",
    "B=values[1]\n",
    "\n",
    "pm=np.array([[0,    0,        A,  A],\n",
    "             [0,  B/2,     -B/2,  0],\n",
    "             [0, -B/2,(2*A+B)/2,  A],\n",
    "             [0,    0,        0,  0]])\n",
    "\n",
    "minim_row=np.array([0.,0.,0.,0.])\n",
    "\n",
    "for i in range(0,len(pm)):\n",
    "    minim_row[i]=min(pm[i])\n",
    "    \n",
    "min_tot=min(minim_row)\n",
    "\n",
    "pm1=pm+abs(min_tot)\n",
    "\n",
    "print(\"Game Matrix:\")\n",
    "print(\"\")\n",
    "print(pm)\n",
    "print(\"\")\n",
    "print(\"-----------------------------------------------------------------\")\n",
    "print(\"Equivalent Game Matrix:\")\n",
    "print(\"\")\n",
    "print(pm1)\n",
    "print(\"\")\n",
    "\n"
   ]
  },
  {
   "cell_type": "markdown",
   "metadata": {},
   "source": [
    "# Strategy for player 1"
   ]
  },
  {
   "cell_type": "code",
   "execution_count": 2,
   "metadata": {},
   "outputs": [
    {
     "name": "stdout",
     "output_type": "stream",
     "text": [
      "Game for Player 1\n",
      "\n",
      "Game value of Equivalent Game Matrix'v'= 1.4999999925\n",
      "\n",
      "Game value Game Matrix 'w'= -7.49999995442e-09\n",
      "\n",
      "P1 Strategy:\n",
      "\n",
      "X1= 0.0\n",
      "X2= 0.7000000015\n",
      "X3= 0.29999999850000003\n",
      "X4= 0.0\n"
     ]
    }
   ],
   "source": [
    "probx=LpProblem(\"Game X\", LpMinimize)\n",
    "#The variables are created:\n",
    "x_1=LpVariable(\"X_1\",0,None)\n",
    "x_2=LpVariable(\"X_2\",0,None)\n",
    "x_3=LpVariable(\"X_3\",0,None)\n",
    "x_4=LpVariable(\"X_4\",0,None)\n",
    " \n",
    "#The objective function is added\n",
    "probx += x_1+x_2+x_3+x_4\n",
    "\n",
    "#Subject to restrictions:\n",
    "probx += pm1[0][0]*x_1+pm1[1][0]*x_2+ pm1[2][0]*x_3 + pm1[3][0]*x_4 >= 1\n",
    "probx += pm1[0][1]*x_1+pm1[1][1]*x_2+ pm1[2][1]*x_3 + pm1[3][1]*x_4 >= 1\n",
    "probx += pm1[0][2]*x_1+pm1[1][2]*x_2+ pm1[2][2]*x_3 + pm1[3][2]*x_4 >= 1\n",
    "probx += pm1[0][3]*x_1+pm1[1][3]*x_2+ pm1[2][3]*x_3 + pm1[3][3]*x_4 >= 1\n",
    "\n",
    "#Solution:\n",
    "probx.solve()\n",
    "\n",
    "vx=1/value(probx.objective)\n",
    "print(\"Game for Player 1\")\n",
    "print (\"\")\n",
    "print (\"Game value of Equivalent Game Matrix'v'=\", vx)\n",
    "print (\"\")\n",
    "print (\"Game value Game Matrix 'w'=\", vx-abs(min_tot))\n",
    "print (\"\")\n",
    "\n",
    "x=probx.variables()\n",
    "\n",
    "X1=vx*(x[0].varValue)\n",
    "X2=vx*(x[1].varValue)\n",
    "X3=vx*(x[2].varValue)\n",
    "X4=vx*(x[3].varValue)\n",
    "\n",
    "\n",
    "print (\"P1 Strategy:\")\n",
    "print(\"\")\n",
    "print (\"X1=\", X1)\n",
    "print (\"X2=\", X2)\n",
    "print (\"X3=\", X3)\n",
    "print (\"X4=\", X4)\n"
   ]
  },
  {
   "cell_type": "markdown",
   "metadata": {},
   "source": [
    "# Strategy for player 2"
   ]
  },
  {
   "cell_type": "code",
   "execution_count": 3,
   "metadata": {},
   "outputs": [
    {
     "name": "stdout",
     "output_type": "stream",
     "text": [
      "Game for Player 2\n",
      "\n",
      "Game value of Equivalent Game Matrix'v'= 1.49999999249775\n",
      "\n",
      "Game value Game Matrix 'w'= -7.5022499324e-09\n",
      "\n",
      "P2 Strategy:\n",
      "\n",
      "Y1= 0.9999999999985001\n",
      "Y2= 0.0\n",
      "Y3= 1.500008392497708e-12\n",
      "Y4= 0.0\n"
     ]
    }
   ],
   "source": [
    "proby=LpProblem(\"Game Y\", LpMaximize)\n",
    "#The variables are created:\n",
    "y_1=LpVariable(\"Y_1\",0,None)\n",
    "y_2=LpVariable(\"Y_2\",0,None)\n",
    "y_3=LpVariable(\"Y_3\",0,None)\n",
    "y_4=LpVariable(\"Y_4\",0,None)\n",
    "\n",
    " \n",
    "#The objective function is added\n",
    "proby += y_1+y_2+y_3+y_4\n",
    "\n",
    "#Subject to restrictions:\n",
    "proby +=pm1[0][0]*y_1+pm1[0][1]*y_2+ pm1[0][2]*y_3 + pm1[0][3]*y_4 <=1\n",
    "proby +=pm1[1][0]*y_1+pm1[1][1]*y_2+ pm1[1][2]*y_3 + pm1[1][3]*y_4 <=1\n",
    "proby +=pm1[2][0]*y_1+pm1[2][1]*y_2+ pm1[2][2]*y_3 + pm1[2][3]*y_4 <=1\n",
    "#proby +=pm1[3][0]*y_1+pm1[3][1]*y_2+ pm1[3][2]*y_3 + pm1[3][3]*y_4 <=1\n",
    "\n",
    "\n",
    "#Solution:\n",
    "proby.solve()\n",
    "\n",
    "vy=1/value(proby.objective)\n",
    "print(\"Game for Player 2\")\n",
    "print (\"\")\n",
    "print (\"Game value of Equivalent Game Matrix'v'=\", vy)\n",
    "print (\"\")\n",
    "print (\"Game value Game Matrix 'w'=\", vy-abs(min_tot))\n",
    "print (\"\")\n",
    "\n",
    "y=proby.variables()\n",
    "Y1=vy*(y[0].varValue)\n",
    "Y2=vy*(y[1].varValue)\n",
    "Y3=vy*(y[2].varValue)\n",
    "Y4=vy*(y[3].varValue)\n",
    "\n",
    "\n",
    "print (\"P2 Strategy:\")\n",
    "print(\"\")\n",
    "print (\"Y1=\",Y1)\n",
    "print (\"Y2=\",Y2)\n",
    "print (\"Y3=\",Y3)\n",
    "print (\"Y4=\",Y4)"
   ]
  },
  {
   "cell_type": "markdown",
   "metadata": {
    "collapsed": true
   },
   "source": [
    "While seeming to offer more variety, this game is not as interesting as the game 1; The payoff matrix has saddle points. The game has value 0 and the optimal strategies for Player 2 is to always choose the first column."
   ]
  },
  {
   "cell_type": "markdown",
   "metadata": {},
   "source": [
    "**Reference:**  \n",
    "Thie, P., Keough, G. (2008) *An introduction to Linear Programming and Game Theory* John Wiley & Sons, Inc., : United States. Pg, 384 and 385."
   ]
  }
 ],
 "metadata": {
  "kernelspec": {
   "display_name": "Python 3",
   "language": "python",
   "name": "python3"
  },
  "language_info": {
   "codemirror_mode": {
    "name": "ipython",
    "version": 3
   },
   "file_extension": ".py",
   "mimetype": "text/x-python",
   "name": "python",
   "nbconvert_exporter": "python",
   "pygments_lexer": "ipython3",
   "version": "3.6.1"
  }
 },
 "nbformat": 4,
 "nbformat_minor": 2
}
