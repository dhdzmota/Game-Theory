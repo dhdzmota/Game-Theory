{
 "cells": [
  {
   "cell_type": "markdown",
   "metadata": {},
   "source": [
    "# Games People Play\n",
    "## Game 3\n",
    "\n",
    "**Rules**. This game is played just like Game 2, with one minor difference: If $P_1$ elects to pass and $P_2$ elects to raise, both players must add the amount $2b$ to the pot before it is distributed in the usual manner. \n",
    "\n",
    "Thus if $P_1$ raises and $P_2$ calls, the stakes are $a+b$; but if $P_1$ passes and $P_2$ raises, the stakes are $a+2b$. It is not at all obvious how $P_1$ should proceed if he is dealt a high card. If he raises he wins eigher $a$ or $a+b$, depending on $P_2$ actions; if he passes, he wins at least $a$; and if $P_2$ raises, he wins $a+2b$. But if $P_2$ expects $P_1$ to always pass if he has a high card, then a raise by $P_1$ indicates that he has a low card, and in such circimustances a raise by $P_2$ will net $P_2$ the amount $a+2b$. Thus, to still bluff successfully with a low card by raising on a low-card hand, it seems that $P_1$ must occasionally raise on a high-card hand. \n",
    "\n",
    "The payoff matrix in game 3 is given by:\n",
    "\n",
    "$$A=\\begin{bmatrix} 0 & 0 & a & a \\\\ -\\frac{b}{2} & \\frac{b}{2} & -b & 0 \\\\ \\frac{b}{2} & -\\frac{b}{2} & a+b & a \\\\ 0 & 0 & 0 & 0  \\end{bmatrix}$$"
   ]
  },
  {
   "cell_type": "code",
   "execution_count": 6,
   "metadata": {},
   "outputs": [
    {
     "name": "stdout",
     "output_type": "stream",
     "text": [
      "Introduce el valor de a: 3\n",
      "Introduce el valor de b: 4\n",
      "Game Matrix:\n",
      "\n",
      "[[ 0.  0.  3.  3.]\n",
      " [-2.  2. -4.  0.]\n",
      " [ 2. -2.  7.  3.]\n",
      " [ 0.  0.  0.  0.]]\n",
      "\n",
      "-----------------------------------------------------------------\n",
      "Equivalent Game Matrix:\n",
      "\n",
      "[[  4.   4.   7.   7.]\n",
      " [  2.   6.   0.   4.]\n",
      " [  6.   2.  11.   7.]\n",
      " [  4.   4.   4.   4.]]\n"
     ]
    }
   ],
   "source": [
    "import numpy as np\n",
    "from pulp import *\n",
    "\n",
    "#Game 3\n",
    "\n",
    "def valor_a_b(a,b):\n",
    "    x=abs(a)\n",
    "    y=abs(b)\n",
    "    l=np.array([x,y])\n",
    "    return l\n",
    "\n",
    "va=input(\"Introduce el valor de a: \")\n",
    "vb=input(\"Introduce el valor de b: \")\n",
    "va=int(va)\n",
    "vb=int(vb)\n",
    "\n",
    "values=valor_a_b(va,vb)\n",
    "\n",
    "A=values[0]\n",
    "B=values[1]\n",
    "\n",
    "pm=np.array([[   0,    0,    A,   A],\n",
    "             [-B/2,  B/2,   -B,   0],\n",
    "             [ B/2, -B/2,  A+B,   A],\n",
    "             [   0,    0,    0,   0]])\n",
    "\n",
    "minim_row=np.array([0.,0.,0.,0.])\n",
    "\n",
    "for i in range(0,len(pm)):\n",
    "    minim_row[i]=min(pm[i])\n",
    "    \n",
    "min_tot=min(minim_row)\n",
    "\n",
    "pm1=pm+abs(min_tot)\n",
    "\n",
    "print(\"Game Matrix:\")\n",
    "print(\"\")\n",
    "print(pm)\n",
    "print(\"\")\n",
    "print(\"-----------------------------------------------------------------\")\n",
    "print(\"Equivalent Game Matrix:\")\n",
    "print(\"\")\n",
    "print(pm1)\n"
   ]
  },
  {
   "cell_type": "markdown",
   "metadata": {},
   "source": [
    "# Strategy for player 1"
   ]
  },
  {
   "cell_type": "code",
   "execution_count": 7,
   "metadata": {},
   "outputs": [
    {
     "name": "stdout",
     "output_type": "stream",
     "text": [
      "Game for Player 1\n",
      "\n",
      "Game value of Equivalent Game Matrix'v'= 4.0\n",
      "\n",
      "Game value Game Matrix 'w'= 0.0\n",
      "\n",
      "P1 Strategy:\n",
      "\n",
      "X1= 0.0\n",
      "X2= 0.5\n",
      "X3= 0.5\n",
      "X4= 0.0\n"
     ]
    }
   ],
   "source": [
    "probx=LpProblem(\"Game X\", LpMinimize)\n",
    "#The variables are created:\n",
    "x_1=LpVariable(\"X_1\",0,None)\n",
    "x_2=LpVariable(\"X_2\",0,None)\n",
    "x_3=LpVariable(\"X_3\",0,None)\n",
    "x_4=LpVariable(\"X_4\",0,None)\n",
    " \n",
    "#The objective function is added\n",
    "probx += x_1+x_2+x_3+x_4\n",
    "\n",
    "#Subject to restrictions:\n",
    "probx += pm1[0][0]*x_1+pm1[1][0]*x_2+ pm1[2][0]*x_3 + pm1[3][0]*x_4 >= 1\n",
    "probx += pm1[0][1]*x_1+pm1[1][1]*x_2+ pm1[2][1]*x_3 + pm1[3][1]*x_4 >= 1\n",
    "probx += pm1[0][2]*x_1+pm1[1][2]*x_2+ pm1[2][2]*x_3 + pm1[3][2]*x_4 >= 1\n",
    "probx += pm1[0][3]*x_1+pm1[1][3]*x_2+ pm1[2][3]*x_3 + pm1[3][3]*x_4 >= 1\n",
    "\n",
    "#Solution:\n",
    "probx.solve()\n",
    "\n",
    "vx=1/value(probx.objective)\n",
    "print(\"Game for Player 1\")\n",
    "print (\"\")\n",
    "print (\"Game value of Equivalent Game Matrix'v'=\", vx)\n",
    "print (\"\")\n",
    "print (\"Game value Game Matrix 'w'=\", vx-abs(min_tot))\n",
    "print (\"\")\n",
    "\n",
    "x=probx.variables()\n",
    "\n",
    "X1=vx*(x[0].varValue)\n",
    "X2=vx*(x[1].varValue)\n",
    "X3=vx*(x[2].varValue)\n",
    "X4=vx*(x[3].varValue)\n",
    "\n",
    "\n",
    "print (\"P1 Strategy:\")\n",
    "print(\"\")\n",
    "print (\"X1=\", X1)\n",
    "print (\"X2=\", X2)\n",
    "print (\"X3=\", X3)\n",
    "print (\"X4=\", X4)"
   ]
  },
  {
   "cell_type": "markdown",
   "metadata": {},
   "source": [
    "# Strategy for player 2"
   ]
  },
  {
   "cell_type": "code",
   "execution_count": 9,
   "metadata": {},
   "outputs": [
    {
     "name": "stdout",
     "output_type": "stream",
     "text": [
      "Game for Player 2\n",
      "\n",
      "Game value of Equivalent Game Matrix'v'= 4.0\n",
      "\n",
      "Game value Game Matrix 'w'= 0.0\n",
      "\n",
      "P2 Strategy:\n",
      "\n",
      "Y1= 0.5\n",
      "Y2= 0.5\n",
      "Y3= 0.0\n",
      "Y4= 0.0\n"
     ]
    }
   ],
   "source": [
    "proby=LpProblem(\"Game Y\", LpMaximize)\n",
    "#The variables are created:\n",
    "y_1=LpVariable(\"Y_1\",0,None)\n",
    "y_2=LpVariable(\"Y_2\",0,None)\n",
    "y_3=LpVariable(\"Y_3\",0,None)\n",
    "y_4=LpVariable(\"Y_4\",0,None)\n",
    "\n",
    " \n",
    "#The objective function is added\n",
    "proby += y_1+y_2+y_3+y_4\n",
    "\n",
    "#Subject to restrictions:\n",
    "proby +=pm1[0][0]*y_1+pm1[0][1]*y_2+ pm1[0][2]*y_3 + pm1[0][3]*y_4 <=1\n",
    "proby +=pm1[1][0]*y_1+pm1[1][1]*y_2+ pm1[1][2]*y_3 + pm1[1][3]*y_4 <=1\n",
    "proby +=pm1[2][0]*y_1+pm1[2][1]*y_2+ pm1[2][2]*y_3 + pm1[2][3]*y_4 <=1\n",
    "proby +=pm1[3][0]*y_1+pm1[3][1]*y_2+ pm1[3][2]*y_3 + pm1[3][3]*y_4 <=1\n",
    "\n",
    "\n",
    "#Solution:\n",
    "proby.solve()\n",
    "\n",
    "vy=1/value(proby.objective)\n",
    "print(\"Game for Player 2\")\n",
    "print (\"\")\n",
    "print (\"Game value of Equivalent Game Matrix'v'=\", vy)\n",
    "print (\"\")\n",
    "print (\"Game value Game Matrix 'w'=\", vy-abs(min_tot))\n",
    "print (\"\")\n",
    "\n",
    "y=proby.variables()\n",
    "Y1=vy*(y[0].varValue)\n",
    "Y2=vy*(y[1].varValue)\n",
    "Y3=vy*(y[2].varValue)\n",
    "Y4=vy*(y[3].varValue)\n",
    "\n",
    "\n",
    "print (\"P2 Strategy:\")\n",
    "print(\"\")\n",
    "\n",
    "print (\"Y1=\",Y1)\n",
    "print (\"Y2=\",Y2)\n",
    "print (\"Y3=\",Y3)\n",
    "print (\"Y4=\",Y4)"
   ]
  },
  {
   "cell_type": "markdown",
   "metadata": {},
   "source": [
    "**Reference:**  \n",
    "Thie, P., Keough, G. (2008) *An introduction to Linear Programming and Game Theory* John Wiley & Sons, Inc., : United States. Pg, 385 and 386."
   ]
  }
 ],
 "metadata": {
  "kernelspec": {
   "display_name": "Python 3",
   "language": "python",
   "name": "python3"
  },
  "language_info": {
   "codemirror_mode": {
    "name": "ipython",
    "version": 3
   },
   "file_extension": ".py",
   "mimetype": "text/x-python",
   "name": "python",
   "nbconvert_exporter": "python",
   "pygments_lexer": "ipython3",
   "version": "3.6.1"
  }
 },
 "nbformat": 4,
 "nbformat_minor": 2
}
